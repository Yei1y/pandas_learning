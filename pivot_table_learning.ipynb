{
 "cells": [
  {
   "cell_type": "markdown",
   "id": "0a562358",
   "metadata": {},
   "source": [
    "# Pandas pivot_table 指南\n",
    "\n",
    "## 一、方法概述\n",
    "```python\n",
    "pd.pivot_table(\n",
    "    data,           # 必需参数\n",
    "    values=None,    # 待聚合数值列\n",
    "    index=None,     # 行分组键\n",
    "    columns=None,   # 列分组键\n",
    "    aggfunc='mean', # 聚合函数\n",
    "    fill_value=None,# 缺失值填充\n",
    "    margins=False,  # 显示总计\n",
    "    dropna=True,    # 删除全NA列\n",
    "    margins_name='All', # 总计行名称\n",
    "    observed=False, # 仅显示观察值\n",
    "    sort=True       # 结果排序\n",
    ")\n",
    "```"
   ]
  },
  {
   "cell_type": "code",
   "execution_count": null,
   "id": "4139f1b3",
   "metadata": {},
   "outputs": [
    {
     "name": "stdout",
     "output_type": "stream",
     "text": [
      "   Id  MSSubClass MSZoning  LotFrontage  LotArea Street Alley LotShape  \\\n",
      "0   1          60       RL         65.0     8450   Pave   NaN      Reg   \n",
      "1   2          20       RL         80.0     9600   Pave   NaN      Reg   \n",
      "2   3          60       RL         68.0    11250   Pave   NaN      IR1   \n",
      "3   4          70       RL         60.0     9550   Pave   NaN      IR1   \n",
      "4   5          60       RL         84.0    14260   Pave   NaN      IR1   \n",
      "\n",
      "  LandContour Utilities  ... PoolArea PoolQC Fence MiscFeature MiscVal MoSold  \\\n",
      "0         Lvl    AllPub  ...        0    NaN   NaN         NaN       0      2   \n",
      "1         Lvl    AllPub  ...        0    NaN   NaN         NaN       0      5   \n",
      "2         Lvl    AllPub  ...        0    NaN   NaN         NaN       0      9   \n",
      "3         Lvl    AllPub  ...        0    NaN   NaN         NaN       0      2   \n",
      "4         Lvl    AllPub  ...        0    NaN   NaN         NaN       0     12   \n",
      "\n",
      "  YrSold  SaleType  SaleCondition  SalePrice  \n",
      "0   2008        WD         Normal     208500  \n",
      "1   2007        WD         Normal     181500  \n",
      "2   2008        WD         Normal     223500  \n",
      "3   2006        WD        Abnorml     140000  \n",
      "4   2008        WD         Normal     250000  \n",
      "\n",
      "[5 rows x 81 columns]\n"
     ]
    }
   ],
   "source": [
    "import pandas as pd\n",
    "# 数据读取\n",
    "df = pd.read_csv('train.csv')\n",
    "print(df.head())"
   ]
  },
  {
   "cell_type": "code",
   "execution_count": null,
   "id": "ca3e263f",
   "metadata": {},
   "outputs": [
    {
     "name": "stdout",
     "output_type": "stream",
     "text": [
      "                             LotArea  LotFrontage  MasVnrArea\n",
      "SaleType SaleCondition                                       \n",
      "COD      Abnorml         9187.125000    65.000000  117.500000\n",
      "         Normal         10119.947368    70.666667   95.210526\n",
      "CWD      Abnorml         5119.000000    50.000000   60.000000\n",
      "         Family          8520.000000    60.000000    0.000000\n",
      "         Normal         11237.500000    80.000000   54.000000\n",
      "Con      Normal          9743.000000    52.000000    0.000000\n",
      "ConLD    Abnorml         7028.000000    82.500000    0.000000\n",
      "         Normal         10300.166667    77.400000  129.000000\n",
      "         Partial        11932.000000    92.000000  186.000000\n",
      "ConLI    Abnorml         9100.000000    70.000000  336.000000\n",
      "         Normal         11100.000000    78.000000  105.000000\n",
      "ConLw    Normal          7956.800000    50.600000   33.200000\n",
      "New      Partial        11179.000000    79.355372  207.352941\n",
      "Oth      Abnorml         9258.666667    58.666667    0.000000\n",
      "WD       Abnorml         9685.557143    69.000000   60.900000\n",
      "         AdjLand         8002.500000    54.500000   62.500000\n",
      "         Alloca         11499.583333    64.800000   82.727273\n",
      "         Family          9661.105263    74.117647   93.157895\n",
      "         Normal         10561.087931    69.139935   96.889273\n",
      "         Partial        15547.500000    57.500000    0.000000\n",
      "All                      9953.560669    70.030126  102.703766\n"
     ]
    }
   ],
   "source": [
    "\n",
    "pivot_table = pd.pivot_table(df, index=['SaleType','SaleCondition'],\n",
    "                             values=['LotFrontage','LotArea','MasVnrArea'],\n",
    "                             aggfunc={'LotFrontage':'mean','LotArea':'mean','MasVnrArea':'mean'},\n",
    "                             fill_value=0,\n",
    "                             margins=True,\n",
    "                             margins_name='All')\n",
    "print(pivot_table)"
   ]
  },
  {
   "cell_type": "code",
   "execution_count": 9,
   "id": "34edfc2e",
   "metadata": {},
   "outputs": [
    {
     "name": "stdout",
     "output_type": "stream",
     "text": [
      "                   LotArea                                                   \\\n",
      "SaleCondition      Abnorml AdjLand        Alloca       Family        Normal   \n",
      "SaleType                                                                      \n",
      "COD            9187.125000     0.0      0.000000     0.000000  10119.947368   \n",
      "CWD            5119.000000     0.0      0.000000  8520.000000  11237.500000   \n",
      "Con               0.000000     0.0      0.000000     0.000000   9743.000000   \n",
      "ConLD          7028.000000     0.0      0.000000     0.000000  10300.166667   \n",
      "ConLI          9100.000000     0.0      0.000000     0.000000  11100.000000   \n",
      "ConLw             0.000000     0.0      0.000000     0.000000   7956.800000   \n",
      "New               0.000000     0.0      0.000000     0.000000      0.000000   \n",
      "Oth            9258.666667     0.0      0.000000     0.000000      0.000000   \n",
      "WD             9685.557143  8002.5  11499.583333  9661.105263  10561.087931   \n",
      "All            8733.119048  8002.5   8563.700000  9483.833333   9916.397704   \n",
      "\n",
      "                                          LotFrontage                 ...  \\\n",
      "SaleCondition       Partial           All     Abnorml AdjLand Alloca  ...   \n",
      "SaleType                                                              ...   \n",
      "COD                0.000000   8323.656250   65.000000     0.0    0.0  ...   \n",
      "CWD                0.000000   9028.500000   50.000000     0.0    0.0  ...   \n",
      "Con                0.000000   9743.000000    0.000000     0.0    0.0  ...   \n",
      "ConLD          11932.000000  10418.875000   82.500000     0.0    0.0  ...   \n",
      "ConLI              0.000000  11358.000000   70.000000     0.0    0.0  ...   \n",
      "ConLw              0.000000   7956.800000    0.000000     0.0    0.0  ...   \n",
      "New            11179.000000  11268.059322    0.000000     0.0    0.0  ...   \n",
      "Oth                0.000000   9258.666667   58.666667     0.0    0.0  ...   \n",
      "WD             15547.500000   9859.248283   69.000000    54.5   64.8  ...   \n",
      "All            11344.280992   9953.560669   67.928571    54.5   64.8  ...   \n",
      "\n",
      "                                                MasVnrArea                     \\\n",
      "SaleCondition     Normal    Partial        All     Abnorml AdjLand     Alloca   \n",
      "SaleType                                                                        \n",
      "COD            70.666667   0.000000  67.656250  117.500000     0.0   0.000000   \n",
      "CWD            80.000000   0.000000  67.500000   60.000000     0.0   0.000000   \n",
      "Con            52.000000   0.000000  52.000000    0.000000     0.0   0.000000   \n",
      "ConLD          77.400000  92.000000  80.500000    0.000000     0.0   0.000000   \n",
      "ConLI          78.000000   0.000000  76.000000  336.000000     0.0   0.000000   \n",
      "ConLw          50.600000   0.000000  50.600000    0.000000     0.0   0.000000   \n",
      "New             0.000000  79.355372  79.364407    0.000000     0.0   0.000000   \n",
      "Oth             0.000000   0.000000  58.666667    0.000000     0.0   0.000000   \n",
      "WD             69.139935  57.500000  69.092247   60.900000    62.5  82.727273   \n",
      "All            69.125261  79.107438  70.030126   68.559524    62.5  91.000000   \n",
      "\n",
      "                                                              \n",
      "SaleCondition     Family      Normal     Partial         All  \n",
      "SaleType                                                      \n",
      "COD             0.000000   95.210526    0.000000  105.968750  \n",
      "CWD             0.000000   54.000000    0.000000   42.000000  \n",
      "Con             0.000000    0.000000    0.000000    0.000000  \n",
      "ConLD           0.000000  129.000000  186.000000   98.875000  \n",
      "ConLI           0.000000  105.000000    0.000000  189.000000  \n",
      "ConLw           0.000000   33.200000    0.000000   33.200000  \n",
      "New             0.000000    0.000000  207.352941  205.449153  \n",
      "Oth             0.000000    0.000000    0.000000    0.000000  \n",
      "WD             93.157895   96.889273    0.000000   91.477920  \n",
      "All            98.333333   93.541754  201.892562  102.703766  \n",
      "\n",
      "[10 rows x 21 columns]\n"
     ]
    }
   ],
   "source": [
    "# 使用透视表查看不同Saleondition下其余特征的分布\n",
    "pivot_table = pd.pivot_table(df, index=['SaleType'],\n",
    "                             columns=['SaleCondition'],\n",
    "                             values=['LotFrontage','LotArea','MasVnrArea'],\n",
    "                             aggfunc={'LotFrontage':'mean','LotArea':'mean','MasVnrArea':'mean'},\n",
    "                             fill_value=0,\n",
    "                             margins=True,\n",
    "                             margins_name='All')\n",
    "print(pivot_table)"
   ]
  },
  {
   "cell_type": "code",
   "execution_count": null,
   "id": "73a20b7c",
   "metadata": {},
   "outputs": [],
   "source": []
  }
 ],
 "metadata": {
  "kernelspec": {
   "display_name": "python31111",
   "language": "python",
   "name": "python3"
  },
  "language_info": {
   "codemirror_mode": {
    "name": "ipython",
    "version": 3
   },
   "file_extension": ".py",
   "mimetype": "text/x-python",
   "name": "python",
   "nbconvert_exporter": "python",
   "pygments_lexer": "ipython3",
   "version": "3.11.11"
  }
 },
 "nbformat": 4,
 "nbformat_minor": 5
}
